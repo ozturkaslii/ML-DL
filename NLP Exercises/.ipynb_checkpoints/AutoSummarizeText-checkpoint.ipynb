{
 "cells": [
  {
   "cell_type": "code",
   "execution_count": 39,
   "metadata": {},
   "outputs": [],
   "source": [
    "from urllib.request import urlopen # to download webpage\n",
    "from bs4 import BeautifulSoup # parse webpage"
   ]
  },
  {
   "cell_type": "code",
   "execution_count": 47,
   "metadata": {},
   "outputs": [],
   "source": [
    "article_url = \"https://www.washingtonpost.com/technology/2019/01/31/deactivating-facebook-leaves-people-less-informed-happier-study-finds/\""
   ]
  },
  {
   "cell_type": "code",
   "execution_count": 48,
   "metadata": {},
   "outputs": [],
   "source": [
    "page = urlopen(article_url).read().decode('utf8', 'ignore')"
   ]
  },
  {
   "cell_type": "code",
   "execution_count": 69,
   "metadata": {},
   "outputs": [],
   "source": [
    "soup = BeautifulSoup(page, \"lxml\")"
   ]
  },
  {
   "cell_type": "code",
   "execution_count": 50,
   "metadata": {},
   "outputs": [
    {
     "data": {
      "text/plain": [
       "<article class=\"paywall\" itemprop=\"articleBody\"> <div class=\"inline-content inline-photo inline-photo-normal\" data-elm-loc=\"0\"> <a name=\"O3ENTEE76AI6PDVB5WLVFBKHLY\"></a> <img class=\"unprocessed \" data-hi-res-src=\"https://www.washingtonpost.com/resizer/BwHknn95o_UKTVk2eskafRO8Zwo=/1484x0/arc-anglerfish-washpost-prod-washpost.s3.amazonaws.com/public/O3ENTEE76AI6PDVB5WLVFBKHLY.jpg\" data-low-res-src=\"https://www.washingtonpost.com/resizer/xKL0zHbfziQzViILHLQvUDSzrJo=/480x0/arc-anglerfish-washpost-prod-washpost.s3.amazonaws.com/public/O3ENTEE76AI6PDVB5WLVFBKHLY.jpg\" data-raw-src=\"https://arc-anglerfish-washpost-prod-washpost.s3.amazonaws.com/public/O3ENTEE76AI6PDVB5WLVFBKHLY.jpg\" data-threshold=\"480\" src=\"https://www.washingtonpost.com/resizer/xKL0zHbfziQzViILHLQvUDSzrJo=/480x0/arc-anglerfish-washpost-prod-washpost.s3.amazonaws.com/public/O3ENTEE76AI6PDVB5WLVFBKHLY.jpg\"/><br/> <span class=\"pb-caption\">Facebook CEO Mark Zuckerberg delivers the commencement address at Harvard University in 2017. (Steven Senne/AP)</span> </div> <div class=\"author-sig-line-wrapper\"> <div class=\"author-sig-line\"> <div class=\"author-byline \"> <div class=\"author-wrapper\" data-authorname=\"Hamza Shaban\"> <div class=\"author-info\"> <span class=\"by-lbl\">By</span> <a class=\"author-name\" href=\"https://www.washingtonpost.com/people/hamza-shaban\"> Hamza Shaban</a> </div> <div class=\"author-hover-card\"> <div class=\"content \"> <div class=\"author-headshot\"> <a href=\"https://www.washingtonpost.com/people/hamza-shaban\"> <img class=\"unprocessed _1-to-1 placeholder \" data-hi-res-src=\"https://www.washingtonpost.com/resizer/z_MovIgzvKXcWibybHN3C6vRIC4=/90x90/s3.amazonaws.com/arc-authors/washpost/f4263170-971b-4a1c-a0b6-cfbfbc334580.png\" data-low-res-src=\"https://www.washingtonpost.com/resizer/oEOscfvAzeQIg2rke1VlFbxBSic=/29x29/s3.amazonaws.com/arc-authors/washpost/f4263170-971b-4a1c-a0b6-cfbfbc334580.png\" data-raw-src=\"https://s3.amazonaws.com/arc-authors/washpost/f4263170-971b-4a1c-a0b6-cfbfbc334580.png\" data-threshold=\"29\" src=\"https://www.washingtonpost.com/resizer/yAFxThroW-CI5t-yu8Q6FsF7kHI=/1x1/www.washingtonpost.com/pb/resources/img/spacer.gif\"/> </a> </div> <a class=\"author-name\" href=\"https://www.washingtonpost.com/people/hamza-shaban\"> Hamza Shaban</a> <div class=\"author-bio\">Technology reporter</div> <div class=\"social-links\"> <a href=\"mailto:hamza.shaban@washpost.com?subject='Deactivating Facebook leaves people less informed but happier, study finds'\"><span class=\"social-lbl\">Email </span><i class=\"fa fa-envelope\"></i></a> <a href=\"https://www.washingtonpost.com/people/hamza-shaban\"><span>Bio</span> <i class=\"fa fa-external-link-alt\"></i></a> <a href=\"https://twitter.com/hshaban\">Follow <i class=\"fa fa-twitter\"></i> </a> </div> </div> </div> </div> </div> </div> <span class=\"author-timestamp\" content=\"2019-01-31T12:31-500\" itemprop=\"datePublished\">January 31</span> </div> <p data-elm-loc=\"1\">Around the world, more than 2.3 billion people are on Facebook, actively communicating and posting and consuming on the platform, a figure that continues to grow and drive record profits, despite a barrage of privacy scandals and <a href=\"https://www.washingtonpost.com/news/powerpost/paloma/the-technology-202/2019/01/29/the-technology-202-facebook-s-messaging-plans-spark-privacy-antitrust-concerns-around-the-world/5c4f4aa41b326b29c3778cf0/?utm_term=.286031cde6f9\" target=\"_blank\">heightened scrutiny</a> from U.S. lawmakers. Masses of people are <i>not</i> abandoning Facebook, according to the company’s fourth quarter earnings, released on Wednesday. In fact, the company has <a href=\"https://www.recode.net/2019/1/30/18204484/facebook-zuckerberg-products-earnings-q4-2018-priorities\" target=\"_blank\">reversed a troubling trend</a> in its most important market: Facebook added users in North America for the first time all year.</p> <p data-elm-loc=\"2\">For Facebook fans, the benefits of using the platform are clear: It’s a way to stay connected with friends, to consume news and entertainment, and, for businesses, to find potential customers and audiences. In recent years, however, researchers and consumer advocates have scrutinized <a href=\"https://www.washingtonpost.com/news/the-switch/wp/2018/01/30/child-advocates-urge-facebook-to-end-messenger-kids/?utm_term=.1253a747ba15\" target=\"_blank\">what the downsides</a> of all that growth and connectivity <a href=\"https://www.washingtonpost.com/news/to-your-health/wp/2018/05/10/why-kids-and-teens-may-face-far-more-anxiety-these-days/?utm_term=.b5e9bdde7e10\">could mean</a> for society and individual <a href=\"https://www.washingtonpost.com/news/theworldpost/wp/2018/04/25/social-media-addiction/?utm_term=.4c683c144a46\" target=\"_blank\">health</a> and <a href=\"https://www.washingtonpost.com/news/made-by-history/wp/2017/07/30/your-digital-detox-isnt-as-radical-as-you-think/?utm_term=.2445cee13ead\" target=\"_blank\">well-being</a>.</p> <p class=\"interstitial-link \" data-elm-loc=\"3\"><i>[<a href=\"https://www.washingtonpost.com/technology/2019/01/30/facebook-paid-teens-use-research-app-that-could-monitor-online-activity-communication/?utm_term=.dd5cdffc2e46\">Apple escalates war against Facebook and its privacy practices</a>]</i></p> <p data-elm-loc=\"4\">In the latest <a href=\"http://web.stanford.edu/~gentzkow/research/facebook.pdf\" target=\"_blank\">study</a> measuring the effects of social media on a person’s life, researchers at New York University and Stanford University found that deactivating Facebook for just four weeks could alter people’s behavior and state of mind. The study found that temporarily quitting Facebook led people to spend more time offline, watching TV and socializing with family and friends; reduced their knowledge of current events and polarization of policy views; and provoked a small but significant improvement in people’s self-reported happiness and satisfaction with their lives.</p> <p data-elm-loc=\"5\">What’s more, the researchers found that the deactivation freed up on average an hour per day for participants. And the people who took a break from Facebook continued to use the platform less often, even after the experiment ended.</p> <p data-elm-loc=\"6\">“Our study offers the largest-scale experimental evidence available to date on the way Facebook affects a range of individual and social welfare measures,” the researchers wrote. The researchers concluded the experiment shows the downsides of using Facebook, even as the same results “leave little doubt that Facebook produces large benefits for its users.”</p> <p data-elm-loc=\"7\">Participants said Facebook improves their lives in clear and diverse ways, the researchers found, from entertainment, to organizing philanthropy and activism, to providing social bonds for people who would otherwise feel isolated. “Any discussion of social media’s downsides should not obscure the basic fact that it fulfills deep and widespread needs,” the researchers said.</p> <p data-elm-loc=\"8\">But the study found that the psychological improvements of abstaining from Facebook suggests that people may be using the social network more than they should. And while people are less informed about the news when they are away from Facebook, it also cooled partisan thinking.</p> <p data-elm-loc=\"9\">“Facebook and other social media companies have gotten a bad rap for allegedly making us more polarized, making us depressed, making us addicted, and we wanted to rigorously test whether or not this is actually true,” Hunt Allcott, an economics professor at New York University, and one of the co-authors of the study, told The Washington Post in an interview Thursday.</p> <p data-elm-loc=\"10\">“The most remarkable thing is that our results do not support a strong anti-Facebook narrative, nor do they support a strong pro-Facebook narrative.”</p> <p data-elm-loc=\"11\">In a statement to The Washington Post Thursday, Facebook said its teams are focused on fostering meaningful connections on the platform and have provided tools for users to better control their experience. “This is one study of many on this topic and it should be considered that way,” the company said, repeating the study’s own findings that users find clear benefits from the platform and that Facebook helps people stay informed.</p> <p data-elm-loc=\"12\">The <a href=\"https://www.nytimes.com/2019/01/30/health/facebook-psychology-health.html?action=click&amp;module=Top%20Stories&amp;pgtype=Homepage\" target=\"_blank\">New York Times</a> earlier reported on the study, which was posted on the open access research portal SSRN, and will be released as a National Bureau of Economic Research working paper on Monday.</p> <p data-elm-loc=\"13\">The researchers did urge caution in interpreting their results, noting that people could have reacted differently if their break from Facebook was longer. That might have altered how users learned about the news and could have changed how they perceived their well-being. The types of people in the experiment also may have influenced the results, the researchers said.</p> <p data-elm-loc=\"14\">One question the researchers hope to pursue in the future is whether following news on social media is any more or less polarizing than consuming news through mainstream media, said Sarah Eichmeyer, a graduate student in economics at Stanford, and another co-author of the study.</p> <p data-elm-loc=\"15\">The 2,844 Facebook users involved in the study, which took place in the run-up to the 2018 midterm elections, was not a fully representative sample, the study said. Participants were “relatively young, well-educated, and left-leaning compared to the average Facebook user,” and the study only included people who said they were on Facebook for more than 15 minutes every day.</p> </article>"
      ]
     },
     "execution_count": 50,
     "metadata": {},
     "output_type": "execute_result"
    }
   ],
   "source": [
    "soup.find('article')"
   ]
  },
  {
   "cell_type": "code",
   "execution_count": 51,
   "metadata": {},
   "outputs": [
    {
     "data": {
      "text/plain": [
       "'    Facebook CEO Mark Zuckerberg delivers the commencement address at Harvard University in 2017. (Steven Senne/AP)       By  Hamza Shaban          Hamza Shaban Technology reporter  Email  Bio  Follow         January 31  Around the world, more than 2.3 billion people are on Facebook, actively communicating and posting and consuming on the platform, a figure that continues to grow and drive record profits, despite a barrage of privacy scandals and heightened scrutiny from U.S. lawmakers. Masses of people are not abandoning Facebook, according to the company’s fourth quarter earnings, released on Wednesday. In fact, the company has reversed a troubling trend in its most important market: Facebook added users in North America for the first time all year. For Facebook fans, the benefits of using the platform are clear: It’s a way to stay connected with friends, to consume news and entertainment, and, for businesses, to find potential customers and audiences. In recent years, however, researchers and consumer advocates have scrutinized what the downsides of all that growth and connectivity could mean for society and individual health and well-being. [Apple escalates war against Facebook and its privacy practices] In the latest study measuring the effects of social media on a person’s life, researchers at New York University and Stanford University found that deactivating Facebook for just four weeks could alter people’s behavior and state of mind. The study found that temporarily quitting Facebook led people to spend more time offline, watching TV and socializing with family and friends; reduced their knowledge of current events and polarization of policy views; and provoked a small but significant improvement in people’s self-reported happiness and satisfaction with their lives. What’s more, the researchers found that the deactivation freed up on average an hour per day for participants. And the people who took a break from Facebook continued to use the platform less often, even after the experiment ended. “Our study offers the largest-scale experimental evidence available to date on the way Facebook affects a range of individual and social welfare measures,” the researchers wrote. The researchers concluded the experiment shows the downsides of using Facebook, even as the same results “leave little doubt that Facebook produces large benefits for its users.” Participants said Facebook improves their lives in clear and diverse ways, the researchers found, from entertainment, to organizing philanthropy and activism, to providing social bonds for people who would otherwise feel isolated. “Any discussion of social media’s downsides should not obscure the basic fact that it fulfills deep and widespread needs,” the researchers said. But the study found that the psychological improvements of abstaining from Facebook suggests that people may be using the social network more than they should. And while people are less informed about the news when they are away from Facebook, it also cooled partisan thinking. “Facebook and other social media companies have gotten a bad rap for allegedly making us more polarized, making us depressed, making us addicted, and we wanted to rigorously test whether or not this is actually true,” Hunt Allcott, an economics professor at New York University, and one of the co-authors of the study, told The Washington Post in an interview Thursday. “The most remarkable thing is that our results do not support a strong anti-Facebook narrative, nor do they support a strong pro-Facebook narrative.” In a statement to The Washington Post Thursday, Facebook said its teams are focused on fostering meaningful connections on the platform and have provided tools for users to better control their experience. “This is one study of many on this topic and it should be considered that way,” the company said, repeating the study’s own findings that users find clear benefits from the platform and that Facebook helps people stay informed. The New York Times earlier reported on the study, which was posted on the open access research portal SSRN, and will be released as a National Bureau of Economic Research working paper on Monday. The researchers did urge caution in interpreting their results, noting that people could have reacted differently if their break from Facebook was longer. That might have altered how users learned about the news and could have changed how they perceived their well-being. The types of people in the experiment also may have influenced the results, the researchers said. One question the researchers hope to pursue in the future is whether following news on social media is any more or less polarizing than consuming news through mainstream media, said Sarah Eichmeyer, a graduate student in economics at Stanford, and another co-author of the study. The 2,844 Facebook users involved in the study, which took place in the run-up to the 2018 midterm elections, was not a fully representative sample, the study said. Participants were “relatively young, well-educated, and left-leaning compared to the average Facebook user,” and the study only included people who said they were on Facebook for more than 15 minutes every day. '"
      ]
     },
     "execution_count": 51,
     "metadata": {},
     "output_type": "execute_result"
    }
   ],
   "source": [
    "soup.find('article').text"
   ]
  },
  {
   "cell_type": "code",
   "execution_count": 52,
   "metadata": {},
   "outputs": [
    {
     "data": {
      "text/plain": [
       "'    Facebook CEO Mark Zuckerberg delivers the commencement address at Harvard University in 2017. (Steven Senne/AP)       By  Hamza Shaban          Hamza Shaban Technology reporter  Email  Bio  Follow         January 31  Around the world, more than 2.3 billion people are on Facebook, actively communicating and posting and consuming on the platform, a figure that continues to grow and drive record profits, despite a barrage of privacy scandals and heightened scrutiny from U.S. lawmakers. Masses of people are not abandoning Facebook, according to the company’s fourth quarter earnings, released on Wednesday. In fact, the company has reversed a troubling trend in its most important market: Facebook added users in North America for the first time all year. For Facebook fans, the benefits of using the platform are clear: It’s a way to stay connected with friends, to consume news and entertainment, and, for businesses, to find potential customers and audiences. In recent years, however, researchers and consumer advocates have scrutinized what the downsides of all that growth and connectivity could mean for society and individual health and well-being. [Apple escalates war against Facebook and its privacy practices] In the latest study measuring the effects of social media on a person’s life, researchers at New York University and Stanford University found that deactivating Facebook for just four weeks could alter people’s behavior and state of mind. The study found that temporarily quitting Facebook led people to spend more time offline, watching TV and socializing with family and friends; reduced their knowledge of current events and polarization of policy views; and provoked a small but significant improvement in people’s self-reported happiness and satisfaction with their lives. What’s more, the researchers found that the deactivation freed up on average an hour per day for participants. And the people who took a break from Facebook continued to use the platform less often, even after the experiment ended. “Our study offers the largest-scale experimental evidence available to date on the way Facebook affects a range of individual and social welfare measures,” the researchers wrote. The researchers concluded the experiment shows the downsides of using Facebook, even as the same results “leave little doubt that Facebook produces large benefits for its users.” Participants said Facebook improves their lives in clear and diverse ways, the researchers found, from entertainment, to organizing philanthropy and activism, to providing social bonds for people who would otherwise feel isolated. “Any discussion of social media’s downsides should not obscure the basic fact that it fulfills deep and widespread needs,” the researchers said. But the study found that the psychological improvements of abstaining from Facebook suggests that people may be using the social network more than they should. And while people are less informed about the news when they are away from Facebook, it also cooled partisan thinking. “Facebook and other social media companies have gotten a bad rap for allegedly making us more polarized, making us depressed, making us addicted, and we wanted to rigorously test whether or not this is actually true,” Hunt Allcott, an economics professor at New York University, and one of the co-authors of the study, told The Washington Post in an interview Thursday. “The most remarkable thing is that our results do not support a strong anti-Facebook narrative, nor do they support a strong pro-Facebook narrative.” In a statement to The Washington Post Thursday, Facebook said its teams are focused on fostering meaningful connections on the platform and have provided tools for users to better control their experience. “This is one study of many on this topic and it should be considered that way,” the company said, repeating the study’s own findings that users find clear benefits from the platform and that Facebook helps people stay informed. The New York Times earlier reported on the study, which was posted on the open access research portal SSRN, and will be released as a National Bureau of Economic Research working paper on Monday. The researchers did urge caution in interpreting their results, noting that people could have reacted differently if their break from Facebook was longer. That might have altered how users learned about the news and could have changed how they perceived their well-being. The types of people in the experiment also may have influenced the results, the researchers said. One question the researchers hope to pursue in the future is whether following news on social media is any more or less polarizing than consuming news through mainstream media, said Sarah Eichmeyer, a graduate student in economics at Stanford, and another co-author of the study. The 2,844 Facebook users involved in the study, which took place in the run-up to the 2018 midterm elections, was not a fully representative sample, the study said. Participants were “relatively young, well-educated, and left-leaning compared to the average Facebook user,” and the study only included people who said they were on Facebook for more than 15 minutes every day. '"
      ]
     },
     "execution_count": 52,
     "metadata": {},
     "output_type": "execute_result"
    }
   ],
   "source": [
    "# If your page has multiple article elements, you need to combine them.\n",
    "text = ' '.join(map(lambda p: p.text, soup.find_all('article')))\n",
    "text"
   ]
  },
  {
   "cell_type": "code",
   "execution_count": 53,
   "metadata": {},
   "outputs": [
    {
     "data": {
      "text/plain": [
       "b'    Facebook CEO Mark Zuckerberg delivers the commencement address at Harvard University in 2017. (Steven Senne/AP)       By  Hamza Shaban          Hamza Shaban Technology reporter  Email  Bio  Follow         January 31  Around the world, more than 2.3 billion people are on Facebook, actively communicating and posting and consuming on the platform, a figure that continues to grow and drive record profits, despite a barrage of privacy scandals and heightened scrutiny from U.S. lawmakers. Masses of people are not abandoning Facebook, according to the companys fourth quarter earnings, released on Wednesday. In fact, the company has reversed a troubling trend in its most important market: Facebook added users in North America for the first time all year. For Facebook fans, the benefits of using the platform are clear: Its a way to stay connected with friends, to consume news and entertainment, and, for businesses, to find potential customers and audiences. In recent years, however, researchers and consumer advocates have scrutinized what the downsides of all that growth and connectivity could mean for society and individual health and well-being. [Apple escalates war against Facebook and its privacy practices] In the latest study measuring the effects of social media on a persons life, researchers at New York University and Stanford University found that deactivating Facebook for just four weeks could alter peoples behavior and state of mind. The study found that temporarily quitting Facebook led people to spend more time offline, watching TV and socializing with family and friends; reduced their knowledge of current events and polarization of policy views; and provoked a small but significant improvement in peoples self-reported happiness and satisfaction with their lives. Whats more, the researchers found that the deactivation freed up on average an hour per day for participants. And the people who took a break from Facebook continued to use the platform less often, even after the experiment ended. Our study offers the largest-scale experimental evidence available to date on the way Facebook affects a range of individual and social welfare measures, the researchers wrote. The researchers concluded the experiment shows the downsides of using Facebook, even as the same results leave little doubt that Facebook produces large benefits for its users. Participants said Facebook improves their lives in clear and diverse ways, the researchers found, from entertainment, to organizing philanthropy and activism, to providing social bonds for people who would otherwise feel isolated. Any discussion of social medias downsides should not obscure the basic fact that it fulfills deep and widespread needs, the researchers said. But the study found that the psychological improvements of abstaining from Facebook suggests that people may be using the social network more than they should. And while people are less informed about the news when they are away from Facebook, it also cooled partisan thinking. Facebook and other social media companies have gotten a bad rap for allegedly making us more polarized, making us depressed, making us addicted, and we wanted to rigorously test whether or not this is actually true, Hunt Allcott, an economics professor at New York University, and one of the co-authors of the study, told The Washington Post in an interview Thursday. The most remarkable thing is that our results do not support a strong anti-Facebook narrative, nor do they support a strong pro-Facebook narrative. In a statement to The Washington Post Thursday, Facebook said its teams are focused on fostering meaningful connections on the platform and have provided tools for users to better control their experience. This is one study of many on this topic and it should be considered that way, the company said, repeating the studys own findings that users find clear benefits from the platform and that Facebook helps people stay informed. The New York Times earlier reported on the study, which was posted on the open access research portal SSRN, and will be released as a National Bureau of Economic Research working paper on Monday. The researchers did urge caution in interpreting their results, noting that people could have reacted differently if their break from Facebook was longer. That might have altered how users learned about the news and could have changed how they perceived their well-being. The types of people in the experiment also may have influenced the results, the researchers said. One question the researchers hope to pursue in the future is whether following news on social media is any more or less polarizing than consuming news through mainstream media, said Sarah Eichmeyer, a graduate student in economics at Stanford, and another co-author of the study. The 2,844 Facebook users involved in the study, which took place in the run-up to the 2018 midterm elections, was not a fully representative sample, the study said. Participants were relatively young, well-educated, and left-leaning compared to the average Facebook user, and the study only included people who said they were on Facebook for more than 15 minutes every day. '"
      ]
     },
     "execution_count": 53,
     "metadata": {},
     "output_type": "execute_result"
    }
   ],
   "source": [
    "text.encode('ascii', 'ignore')"
   ]
  },
  {
   "cell_type": "code",
   "execution_count": 21,
   "metadata": {},
   "outputs": [],
   "source": [
    "# get text with function\n",
    "\n",
    "def getTextFromWebsite(url):\n",
    "    page = urlopen(url).read().decode('utf8', 'ignore')\n",
    "    soup = BeautifulSoup(page, \"lxml\")\n",
    "    text = ' '.join(map(lambda p: p.text, soup.find_all('article')))\n",
    "    return text.encode('ascii', 'ignore')"
   ]
  },
  {
   "cell_type": "code",
   "execution_count": 54,
   "metadata": {},
   "outputs": [
    {
     "data": {
      "text/plain": [
       "b'    Facebook CEO Mark Zuckerberg delivers the commencement address at Harvard University in 2017. (Steven Senne/AP)       By  Hamza Shaban          Hamza Shaban Technology reporter  Email  Bio  Follow         January 31  Around the world, more than 2.3 billion people are on Facebook, actively communicating and posting and consuming on the platform, a figure that continues to grow and drive record profits, despite a barrage of privacy scandals and heightened scrutiny from U.S. lawmakers. Masses of people are not abandoning Facebook, according to the companys fourth quarter earnings, released on Wednesday. In fact, the company has reversed a troubling trend in its most important market: Facebook added users in North America for the first time all year. For Facebook fans, the benefits of using the platform are clear: Its a way to stay connected with friends, to consume news and entertainment, and, for businesses, to find potential customers and audiences. In recent years, however, researchers and consumer advocates have scrutinized what the downsides of all that growth and connectivity could mean for society and individual health and well-being. [Apple escalates war against Facebook and its privacy practices] In the latest study measuring the effects of social media on a persons life, researchers at New York University and Stanford University found that deactivating Facebook for just four weeks could alter peoples behavior and state of mind. The study found that temporarily quitting Facebook led people to spend more time offline, watching TV and socializing with family and friends; reduced their knowledge of current events and polarization of policy views; and provoked a small but significant improvement in peoples self-reported happiness and satisfaction with their lives. Whats more, the researchers found that the deactivation freed up on average an hour per day for participants. And the people who took a break from Facebook continued to use the platform less often, even after the experiment ended. Our study offers the largest-scale experimental evidence available to date on the way Facebook affects a range of individual and social welfare measures, the researchers wrote. The researchers concluded the experiment shows the downsides of using Facebook, even as the same results leave little doubt that Facebook produces large benefits for its users. Participants said Facebook improves their lives in clear and diverse ways, the researchers found, from entertainment, to organizing philanthropy and activism, to providing social bonds for people who would otherwise feel isolated. Any discussion of social medias downsides should not obscure the basic fact that it fulfills deep and widespread needs, the researchers said. But the study found that the psychological improvements of abstaining from Facebook suggests that people may be using the social network more than they should. And while people are less informed about the news when they are away from Facebook, it also cooled partisan thinking. Facebook and other social media companies have gotten a bad rap for allegedly making us more polarized, making us depressed, making us addicted, and we wanted to rigorously test whether or not this is actually true, Hunt Allcott, an economics professor at New York University, and one of the co-authors of the study, told The Washington Post in an interview Thursday. The most remarkable thing is that our results do not support a strong anti-Facebook narrative, nor do they support a strong pro-Facebook narrative. In a statement to The Washington Post Thursday, Facebook said its teams are focused on fostering meaningful connections on the platform and have provided tools for users to better control their experience. This is one study of many on this topic and it should be considered that way, the company said, repeating the studys own findings that users find clear benefits from the platform and that Facebook helps people stay informed. The New York Times earlier reported on the study, which was posted on the open access research portal SSRN, and will be released as a National Bureau of Economic Research working paper on Monday. The researchers did urge caution in interpreting their results, noting that people could have reacted differently if their break from Facebook was longer. That might have altered how users learned about the news and could have changed how they perceived their well-being. The types of people in the experiment also may have influenced the results, the researchers said. One question the researchers hope to pursue in the future is whether following news on social media is any more or less polarizing than consuming news through mainstream media, said Sarah Eichmeyer, a graduate student in economics at Stanford, and another co-author of the study. The 2,844 Facebook users involved in the study, which took place in the run-up to the 2018 midterm elections, was not a fully representative sample, the study said. Participants were relatively young, well-educated, and left-leaning compared to the average Facebook user, and the study only included people who said they were on Facebook for more than 15 minutes every day. '"
      ]
     },
     "execution_count": 54,
     "metadata": {},
     "output_type": "execute_result"
    }
   ],
   "source": [
    "text_from_func = getTextFromWebsite(article_url)\n",
    "text_from_func"
   ]
  },
  {
   "cell_type": "code",
   "execution_count": 55,
   "metadata": {},
   "outputs": [],
   "source": [
    "# Collect all the individual sentences into a list\n",
    "from nltk.tokenize import sent_tokenize, word_tokenize\n",
    "from nltk.corpus import stopwords\n",
    "from string import punctuation"
   ]
  },
  {
   "cell_type": "code",
   "execution_count": 56,
   "metadata": {},
   "outputs": [
    {
     "data": {
      "text/plain": [
       "['    Facebook CEO Mark Zuckerberg delivers the commencement address at Harvard University in 2017.',\n",
       " '(Steven Senne/AP)       By  Hamza Shaban          Hamza Shaban Technology reporter  Email  Bio  Follow         January 31  Around the world, more than 2.3 billion people are on Facebook, actively communicating and posting and consuming on the platform, a figure that continues to grow and drive record profits, despite a barrage of privacy scandals and heightened scrutiny from U.S. lawmakers.',\n",
       " 'Masses of people are not abandoning Facebook, according to the company’s fourth quarter earnings, released on Wednesday.',\n",
       " 'In fact, the company has reversed a troubling trend in its most important market: Facebook added users in North America for the first time all year.',\n",
       " 'For Facebook fans, the benefits of using the platform are clear: It’s a way to stay connected with friends, to consume news and entertainment, and, for businesses, to find potential customers and audiences.',\n",
       " 'In recent years, however, researchers and consumer advocates have scrutinized what the downsides of all that growth and connectivity could mean for society and individual health and well-being.',\n",
       " '[Apple escalates war against Facebook and its privacy practices] In the latest study measuring the effects of social media on a person’s life, researchers at New York University and Stanford University found that deactivating Facebook for just four weeks could alter people’s behavior and state of mind.',\n",
       " 'The study found that temporarily quitting Facebook led people to spend more time offline, watching TV and socializing with family and friends; reduced their knowledge of current events and polarization of policy views; and provoked a small but significant improvement in people’s self-reported happiness and satisfaction with their lives.',\n",
       " 'What’s more, the researchers found that the deactivation freed up on average an hour per day for participants.',\n",
       " 'And the people who took a break from Facebook continued to use the platform less often, even after the experiment ended.',\n",
       " '“Our study offers the largest-scale experimental evidence available to date on the way Facebook affects a range of individual and social welfare measures,” the researchers wrote.',\n",
       " 'The researchers concluded the experiment shows the downsides of using Facebook, even as the same results “leave little doubt that Facebook produces large benefits for its users.” Participants said Facebook improves their lives in clear and diverse ways, the researchers found, from entertainment, to organizing philanthropy and activism, to providing social bonds for people who would otherwise feel isolated.',\n",
       " '“Any discussion of social media’s downsides should not obscure the basic fact that it fulfills deep and widespread needs,” the researchers said.',\n",
       " 'But the study found that the psychological improvements of abstaining from Facebook suggests that people may be using the social network more than they should.',\n",
       " 'And while people are less informed about the news when they are away from Facebook, it also cooled partisan thinking.',\n",
       " '“Facebook and other social media companies have gotten a bad rap for allegedly making us more polarized, making us depressed, making us addicted, and we wanted to rigorously test whether or not this is actually true,” Hunt Allcott, an economics professor at New York University, and one of the co-authors of the study, told The Washington Post in an interview Thursday.',\n",
       " '“The most remarkable thing is that our results do not support a strong anti-Facebook narrative, nor do they support a strong pro-Facebook narrative.” In a statement to The Washington Post Thursday, Facebook said its teams are focused on fostering meaningful connections on the platform and have provided tools for users to better control their experience.',\n",
       " '“This is one study of many on this topic and it should be considered that way,” the company said, repeating the study’s own findings that users find clear benefits from the platform and that Facebook helps people stay informed.',\n",
       " 'The New York Times earlier reported on the study, which was posted on the open access research portal SSRN, and will be released as a National Bureau of Economic Research working paper on Monday.',\n",
       " 'The researchers did urge caution in interpreting their results, noting that people could have reacted differently if their break from Facebook was longer.',\n",
       " 'That might have altered how users learned about the news and could have changed how they perceived their well-being.',\n",
       " 'The types of people in the experiment also may have influenced the results, the researchers said.',\n",
       " 'One question the researchers hope to pursue in the future is whether following news on social media is any more or less polarizing than consuming news through mainstream media, said Sarah Eichmeyer, a graduate student in economics at Stanford, and another co-author of the study.',\n",
       " 'The 2,844 Facebook users involved in the study, which took place in the run-up to the 2018 midterm elections, was not a fully representative sample, the study said.',\n",
       " 'Participants were “relatively young, well-educated, and left-leaning compared to the average Facebook user,” and the study only included people who said they were on Facebook for more than 15 minutes every day.']"
      ]
     },
     "execution_count": 56,
     "metadata": {},
     "output_type": "execute_result"
    }
   ],
   "source": [
    "sentences = sent_tokenize(text)\n",
    "sentences"
   ]
  },
  {
   "cell_type": "code",
   "execution_count": 58,
   "metadata": {},
   "outputs": [],
   "source": [
    "word_list = word_tokenize(text.lower())"
   ]
  },
  {
   "cell_type": "code",
   "execution_count": 59,
   "metadata": {},
   "outputs": [],
   "source": [
    "custom_stopword = set(stopwords.words('english') + list(punctuation))"
   ]
  },
  {
   "cell_type": "code",
   "execution_count": 61,
   "metadata": {},
   "outputs": [],
   "source": [
    "word_list = [word for word in word_list if word not in custom_stopword]"
   ]
  },
  {
   "cell_type": "code",
   "execution_count": 62,
   "metadata": {},
   "outputs": [
    {
     "data": {
      "text/plain": [
       "FreqDist({'facebook': 22, 'people': 13, 'study': 12, 'researchers': 10, '’': 8, 'said': 8, 'social': 7, '“': 7, '”': 7, 'platform': 5, ...})"
      ]
     },
     "execution_count": 62,
     "metadata": {},
     "output_type": "execute_result"
    }
   ],
   "source": [
    "# Frequency distribution of words\n",
    "from nltk.probability import FreqDist\n",
    "frequency_analysis = FreqDist(word_list)\n",
    "frequency_analysis"
   ]
  },
  {
   "cell_type": "code",
   "execution_count": 63,
   "metadata": {},
   "outputs": [
    {
     "data": {
      "text/plain": [
       "['facebook',\n",
       " 'people',\n",
       " 'study',\n",
       " 'researchers',\n",
       " '’',\n",
       " 'said',\n",
       " 'social',\n",
       " '“',\n",
       " '”',\n",
       " 'platform']"
      ]
     },
     "execution_count": 63,
     "metadata": {},
     "output_type": "execute_result"
    }
   ],
   "source": [
    "# find words which have highest frequency\n",
    "from heapq import nlargest\n",
    "nlargest(10, frequency_analysis, key=frequency_analysis.get)"
   ]
  },
  {
   "cell_type": "code",
   "execution_count": 64,
   "metadata": {},
   "outputs": [
    {
     "data": {
      "text/plain": [
       "defaultdict(int,\n",
       "            {0: 34,\n",
       "             1: 81,\n",
       "             2: 55,\n",
       "             3: 44,\n",
       "             4: 67,\n",
       "             5: 32,\n",
       "             6: 150,\n",
       "             7: 102,\n",
       "             8: 34,\n",
       "             9: 56,\n",
       "             10: 81,\n",
       "             11: 181,\n",
       "             12: 64,\n",
       "             13: 69,\n",
       "             14: 51,\n",
       "             15: 120,\n",
       "             16: 89,\n",
       "             17: 126,\n",
       "             18: 38,\n",
       "             19: 62,\n",
       "             20: 21,\n",
       "             21: 44,\n",
       "             22: 84,\n",
       "             23: 71,\n",
       "             24: 108})"
      ]
     },
     "execution_count": 64,
     "metadata": {},
     "output_type": "execute_result"
    }
   ],
   "source": [
    "# compute significance score\n",
    "from collections import defaultdict\n",
    "ranking = defaultdict(int)\n",
    "\n",
    "for i, sentence in enumerate(sentences):\n",
    "    for w in word_tokenize(sentence.lower()):\n",
    "        if w in frequency_analysis:\n",
    "            ranking[i] += frequency_analysis[w] \n",
    "            \n",
    "ranking"
   ]
  },
  {
   "cell_type": "code",
   "execution_count": 65,
   "metadata": {},
   "outputs": [
    {
     "data": {
      "text/plain": [
       "[11, 6, 17, 15]"
      ]
     },
     "execution_count": 65,
     "metadata": {},
     "output_type": "execute_result"
    }
   ],
   "source": [
    "sentences_indices = nlargest(4, ranking, key=ranking.get)\n",
    "sentences_indices"
   ]
  },
  {
   "cell_type": "code",
   "execution_count": 66,
   "metadata": {},
   "outputs": [
    {
     "data": {
      "text/plain": [
       "['[Apple escalates war against Facebook and its privacy practices] In the latest study measuring the effects of social media on a person’s life, researchers at New York University and Stanford University found that deactivating Facebook for just four weeks could alter people’s behavior and state of mind.',\n",
       " 'The researchers concluded the experiment shows the downsides of using Facebook, even as the same results “leave little doubt that Facebook produces large benefits for its users.” Participants said Facebook improves their lives in clear and diverse ways, the researchers found, from entertainment, to organizing philanthropy and activism, to providing social bonds for people who would otherwise feel isolated.',\n",
       " '“Facebook and other social media companies have gotten a bad rap for allegedly making us more polarized, making us depressed, making us addicted, and we wanted to rigorously test whether or not this is actually true,” Hunt Allcott, an economics professor at New York University, and one of the co-authors of the study, told The Washington Post in an interview Thursday.',\n",
       " '“This is one study of many on this topic and it should be considered that way,” the company said, repeating the study’s own findings that users find clear benefits from the platform and that Facebook helps people stay informed.']"
      ]
     },
     "execution_count": 66,
     "metadata": {},
     "output_type": "execute_result"
    }
   ],
   "source": [
    "[sentences[j] for j in sorted(sentences_indices)]"
   ]
  },
  {
   "cell_type": "code",
   "execution_count": 67,
   "metadata": {},
   "outputs": [],
   "source": [
    "def summarizeText(text, n):\n",
    "    sentences = sent_tokenize(text)\n",
    "    \n",
    "    # check whether the text has required number of sentences\n",
    "    assert n <= len(sentences)\n",
    "    word_list = word_tokenize(text.lower())\n",
    "    custom_stopword = set(stopwords.words('english') + list(punctuation))\n",
    "    \n",
    "    word_list = [word for word in word_list if word not in custom_stopword]\n",
    "    frequency_analysis = FreqDist(word_list)\n",
    "    \n",
    "    ranking = defaultdict(int)\n",
    "    \n",
    "    for i, sentence in enumerate(sentences):\n",
    "        for w in word_tokenize(sentence.lower()):\n",
    "            if w in frequency_analysis:\n",
    "                ranking[i] += frequency_analysis[w] \n",
    "            \n",
    "    sentences_indices = nlargest(4, ranking, key=ranking.get)\n",
    "    \n",
    "    return [sentences[j] for j in sorted(sentences_indices)]"
   ]
  },
  {
   "cell_type": "code",
   "execution_count": 68,
   "metadata": {},
   "outputs": [
    {
     "data": {
      "text/plain": [
       "['[Apple escalates war against Facebook and its privacy practices] In the latest study measuring the effects of social media on a person’s life, researchers at New York University and Stanford University found that deactivating Facebook for just four weeks could alter people’s behavior and state of mind.',\n",
       " 'The researchers concluded the experiment shows the downsides of using Facebook, even as the same results “leave little doubt that Facebook produces large benefits for its users.” Participants said Facebook improves their lives in clear and diverse ways, the researchers found, from entertainment, to organizing philanthropy and activism, to providing social bonds for people who would otherwise feel isolated.',\n",
       " '“Facebook and other social media companies have gotten a bad rap for allegedly making us more polarized, making us depressed, making us addicted, and we wanted to rigorously test whether or not this is actually true,” Hunt Allcott, an economics professor at New York University, and one of the co-authors of the study, told The Washington Post in an interview Thursday.',\n",
       " '“This is one study of many on this topic and it should be considered that way,” the company said, repeating the study’s own findings that users find clear benefits from the platform and that Facebook helps people stay informed.']"
      ]
     },
     "execution_count": 68,
     "metadata": {},
     "output_type": "execute_result"
    }
   ],
   "source": [
    "summarizeText(text, 3)"
   ]
  },
  {
   "cell_type": "code",
   "execution_count": null,
   "metadata": {},
   "outputs": [],
   "source": []
  }
 ],
 "metadata": {
  "kernelspec": {
   "display_name": "Python 3",
   "language": "python",
   "name": "python3"
  },
  "language_info": {
   "codemirror_mode": {
    "name": "ipython",
    "version": 3
   },
   "file_extension": ".py",
   "mimetype": "text/x-python",
   "name": "python",
   "nbconvert_exporter": "python",
   "pygments_lexer": "ipython3",
   "version": "3.6.5"
  }
 },
 "nbformat": 4,
 "nbformat_minor": 2
}
